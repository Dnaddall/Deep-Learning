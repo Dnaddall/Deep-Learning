{
 "cells": [
  {
   "cell_type": "code",
   "execution_count": 2,
   "id": "475665c7-b747-4c16-9a12-a2de5a986774",
   "metadata": {},
   "outputs": [
    {
     "name": "stdout",
     "output_type": "stream",
     "text": [
      "0\n",
      "1\n",
      "2\n",
      "3\n",
      "1.537243573680482\n"
     ]
    }
   ],
   "source": [
    "import numpy as np\n",
    "import scipy as sp\n",
    "from math import sin\n",
    "from math import log\n",
    "from math import radians\n",
    "from scipy.optimize import minimize\n",
    "\n",
    "a = np.array(42)\n",
    "b = np.array([1, 2, 3, 4, 5])\n",
    "c = np.array([[1, 2, 3], [4, 5, 6]])\n",
    "d = np.array([[[1, 2, 3], [4, 5, 6]], [[1, 2, 3], [4, 5, 6]]])\n",
    "\n",
    "print(a.ndim)\n",
    "print(b.ndim)\n",
    "print(c.ndim)\n",
    "print(d.ndim)\n",
    "\n",
    "nplog = np.frompyfunc(log,2,1)\n",
    "\n",
    "print(nplog(100,20))"
   ]
  },
  {
   "cell_type": "code",
   "execution_count": 39,
   "id": "f4a5699b-a310-4fc7-adbf-06d4bc806c0a",
   "metadata": {},
   "outputs": [
    {
     "name": "stdout",
     "output_type": "stream",
     "text": [
      "  message: Optimization terminated successfully.\n",
      "  success: True\n",
      "   status: 0\n",
      "      fun: 0.7280466772624462\n",
      "        x: [ 2.000e+00]\n",
      "      nit: 0\n",
      "      jac: [ 5.174e-01]\n",
      " hess_inv: [[1]]\n",
      "     nfev: 2\n",
      "     njev: 1\n"
     ]
    },
    {
     "name": "stderr",
     "output_type": "stream",
     "text": [
      "C:\\Users\\david\\AppData\\Local\\Temp\\ipykernel_21816\\3026003712.py:4: DeprecationWarning: Conversion of an array with ndim > 0 to a scalar is deprecated, and will error in future. Ensure you extract a single element from your array before performing this operation. (Deprecated NumPy 1.25.)\n",
      "  return log(x) + sin(radians(x))\n"
     ]
    }
   ],
   "source": [
    "def eqn(x):\n",
    "    if x <= 0:\n",
    "        return float('inf')\n",
    "    return log(x) + sin(radians(x))  \n",
    "\n",
    "\n",
    "mini = minimize(eqn, 2, method='BFGS',tol=0.7)\n",
    "\n",
    "print(mini)"
   ]
  },
  {
   "cell_type": "code",
   "execution_count": 40,
   "id": "95dd13b3-1ed9-4868-aefe-49a172008bc9",
   "metadata": {},
   "outputs": [],
   "source": [
    "\n",
    "coordinates = [(0, 0), (1, 2), (2, 1), (3, 4), (4, 3)]"
   ]
  },
  {
   "cell_type": "code",
   "execution_count": null,
   "id": "39936142-ce6c-47fe-a536-18707556d4d2",
   "metadata": {},
   "outputs": [],
   "source": []
  }
 ],
 "metadata": {
  "kernelspec": {
   "display_name": "Python 3 (ipykernel)",
   "language": "python",
   "name": "python3"
  },
  "language_info": {
   "codemirror_mode": {
    "name": "ipython",
    "version": 3
   },
   "file_extension": ".py",
   "mimetype": "text/x-python",
   "name": "python",
   "nbconvert_exporter": "python",
   "pygments_lexer": "ipython3",
   "version": "3.9.9"
  }
 },
 "nbformat": 4,
 "nbformat_minor": 5
}
