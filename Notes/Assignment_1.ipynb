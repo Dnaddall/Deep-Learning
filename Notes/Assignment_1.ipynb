{
 "cells": [
  {
   "cell_type": "code",
   "execution_count": 2,
   "id": "949dae75-7cc1-4e51-ae83-20e89b9f7cdc",
   "metadata": {},
   "outputs": [],
   "source": [
    "import pandas as pd\n",
    "import matplotlib.pyplot as plt\n",
    "from tensorflow import keras\n",
    "from tensorflow.keras import layers\n",
    "from tensorflow.keras import models\n",
    "from tensorflow.keras.datasets import mnist\n",
    "from tensorflow.keras.utils import to_categorical\n",
    "from tensorflow.keras import optimizers\n",
    "from tensorflow.keras.preprocessing.image import ImageDataGenerator\n",
    "import os, shutil\n",
    "import numpy as np\n"
   ]
  },
  {
   "cell_type": "code",
   "execution_count": 3,
   "id": "6dd64620-f05a-4e11-b576-a0e27e1b6f75",
   "metadata": {},
   "outputs": [],
   "source": [
    "df = pd.read_csv(\"C:\\\\Users\\\\david\\\\OneDrive\\\\Inholland\\\\DeepLearning\\\\Assignment 1\\\\palmerpenguins_original.csv\")\n"
   ]
  },
  {
   "cell_type": "code",
   "execution_count": 4,
   "id": "9fdd11e2-b44c-40c8-bbb3-25c310118c7f",
   "metadata": {},
   "outputs": [
    {
     "name": "stdout",
     "output_type": "stream",
     "text": [
      "       species     island  bill_length_mm  bill_depth_mm  flipper_length_mm  \\\n",
      "0       Adelie  Torgersen            39.1           18.7              181.0   \n",
      "1       Adelie  Torgersen            39.5           17.4              186.0   \n",
      "2       Adelie  Torgersen            40.3           18.0              195.0   \n",
      "4       Adelie  Torgersen            36.7           19.3              193.0   \n",
      "5       Adelie  Torgersen            39.3           20.6              190.0   \n",
      "..         ...        ...             ...            ...                ...   \n",
      "339  Chinstrap      Dream            55.8           19.8              207.0   \n",
      "340  Chinstrap      Dream            43.5           18.1              202.0   \n",
      "341  Chinstrap      Dream            49.6           18.2              193.0   \n",
      "342  Chinstrap      Dream            50.8           19.0              210.0   \n",
      "343  Chinstrap      Dream            50.2           18.7              198.0   \n",
      "\n",
      "     body_mass_g  year  sex_female  sex_male  \n",
      "0         3750.0  2007           0         1  \n",
      "1         3800.0  2007           1         0  \n",
      "2         3250.0  2007           1         0  \n",
      "4         3450.0  2007           1         0  \n",
      "5         3650.0  2007           0         1  \n",
      "..           ...   ...         ...       ...  \n",
      "339       4000.0  2009           0         1  \n",
      "340       3400.0  2009           1         0  \n",
      "341       3775.0  2009           0         1  \n",
      "342       4100.0  2009           0         1  \n",
      "343       3775.0  2009           1         0  \n",
      "\n",
      "[333 rows x 9 columns]\n"
     ]
    },
    {
     "name": "stderr",
     "output_type": "stream",
     "text": [
      "C:\\Users\\david\\AppData\\Local\\Temp\\ipykernel_30068\\3660869709.py:1: FutureWarning: The default value of numeric_only in DataFrame.mean is deprecated. In a future version, it will default to False. In addition, specifying 'numeric_only=None' is deprecated. Select only valid columns or specify the value of numeric_only to silence this warning.\n",
      "  df.fillna(df.mean(), inplace=True)\n"
     ]
    }
   ],
   "source": [
    "df.fillna(df.mean(), inplace=True)\n",
    "filled_df = df.dropna()\n",
    "encoded_df = pd.get_dummies(filled_df, columns=['sex'])\n",
    "print(encoded_df)\n",
    "\n"
   ]
  },
  {
   "cell_type": "markdown",
   "id": "810d8d15-d449-45cd-a9d3-62e6b2acd499",
   "metadata": {},
   "source": [
    "# Activation Function"
   ]
  },
  {
   "cell_type": "code",
   "execution_count": 5,
   "id": "9f9d3a41-1efe-4233-8b39-7c95ae48d0a8",
   "metadata": {},
   "outputs": [],
   "source": [
    "def relu(x):\n",
    "    return np.maximum(0,x)\n",
    "\n",
    "def dydxrelu(x):\n",
    "    dx = np.where(x > 0, 1, 0)\n",
    "    return dx\n",
    "    "
   ]
  },
  {
   "cell_type": "markdown",
   "id": "2cd0699f-6270-4341-b610-7d1a3be42572",
   "metadata": {},
   "source": [
    "# Initialize weights"
   ]
  },
  {
   "cell_type": "code",
   "execution_count": 6,
   "id": "8cc09366-8875-4703-9753-29a78681d2e6",
   "metadata": {},
   "outputs": [
    {
     "name": "stdout",
     "output_type": "stream",
     "text": [
      "Layer 1 weights:\n",
      "[[ 0.94890748  0.95285915 -0.87010843]\n",
      " [-1.11209619 -0.39128469 -0.93256338]]\n"
     ]
    }
   ],
   "source": [
    "def initialize_weights(network):\n",
    "    for layer in network:\n",
    "        if 'weights' in layer:\n",
    "            layer['weights'] = np.random.randn(layer['inputs'], layer['nodes'])\n",
    "    return network\n",
    "    \n",
    "network = [\n",
    "    {'inputs': 2, 'nodes': 3},  # Input layer\n",
    "    {'nodes': 1},                # Hidden layer\n",
    "    {'nodes': 1}                 # Output layer\n",
    "]\n",
    "\n",
    "# Initialize weights for each layer\n",
    "for layer in network:\n",
    "    if 'inputs' in layer:\n",
    "        layer['weights'] = np.random.randn(layer['inputs'], layer['nodes'])\n",
    "\n",
    "# Print initialized weights for each layer\n",
    "for i, layer in enumerate(network):\n",
    "    if 'weights' in layer:\n",
    "        print(f\"Layer {i+1} weights:\\n{layer['weights']}\")"
   ]
  },
  {
   "cell_type": "markdown",
   "id": "0d0a0659-5355-4fb7-97d0-f193f563675c",
   "metadata": {},
   "source": [
    "# Node Class"
   ]
  },
  {
   "cell_type": "code",
   "execution_count": 7,
   "id": "e1b2d445-a437-4cd3-9d2e-5e2531fb5bf2",
   "metadata": {},
   "outputs": [],
   "source": [
    "class Node:\n",
    "    def __init__(self, inputs, activation_function):\n",
    "        self.inputs = inputs\n",
    "        self.activation_function = activation_function\n",
    "        self.weights = np.random.randn(inputs)\n",
    "        self.bias = np.random.randn()\n",
    "\n",
    "    def activate(self, inputs):\n",
    "        weighted_sum = np.dot(inputs, self.weights) + self.bias\n",
    "        return self.activation_function(weighted_sum)\n"
   ]
  },
  {
   "cell_type": "markdown",
   "id": "0b91820a-6148-4ed0-99cf-15e61d70688d",
   "metadata": {},
   "source": [
    "# Feed Forward"
   ]
  },
  {
   "cell_type": "code",
   "execution_count": 8,
   "id": "e181cea1-52ba-4d95-b171-540823161d11",
   "metadata": {},
   "outputs": [],
   "source": [
    "def feed_forward(node, inputs, target):\n",
    "    output = node.activate(inputs)\n",
    "    loss = square_loss(output, target)\n",
    "    return output, loss\n",
    " \n"
   ]
  },
  {
   "cell_type": "markdown",
   "id": "740a0465-dd9e-4e4f-8d86-5521b0144bbe",
   "metadata": {},
   "source": [
    "# Backpropogation"
   ]
  },
  {
   "cell_type": "code",
   "execution_count": 9,
   "id": "52b3cc9d-27d2-4585-a62f-c9e15f5b2cdb",
   "metadata": {},
   "outputs": [],
   "source": [
    "def backpropagation(node, inputs, target, learning_rate):\n",
    "        output = node.activate(inputs)\n",
    "        error = output - target\n",
    "        gradient_weights = error * inputs\n",
    "        gradient_bias = error\n",
    "        node.weights -= learning_rate * gradient_weights\n",
    "        node.bias -= learning_rate * gradient_bias\n"
   ]
  },
  {
   "cell_type": "markdown",
   "id": "c9307b35-f8f7-46d7-a585-b2b951d08a02",
   "metadata": {},
   "source": [
    "# Loss\n",
    "y= true value                                                 \n",
    "y_hat = predicted value"
   ]
  },
  {
   "cell_type": "code",
   "execution_count": 10,
   "id": "2b2b9bf6-13ab-4a68-97de-641b7ab74864",
   "metadata": {},
   "outputs": [],
   "source": [
    "def square_loss(y, y_hat):\n",
    "        return np.mean((y - y_hat) ** 2)"
   ]
  },
  {
   "cell_type": "markdown",
   "id": "42559e22-62db-4747-85d6-94492eca877d",
   "metadata": {},
   "source": [
    "# implementation"
   ]
  },
  {
   "cell_type": "markdown",
   "id": "1afb72c4-7625-4c48-8d00-4538f06a744f",
   "metadata": {},
   "source": [
    "Partial derivative of MSE\n"
   ]
  },
  {
   "cell_type": "code",
   "execution_count": 11,
   "id": "da2f29b2-8730-4712-899d-0151e2366259",
   "metadata": {
    "scrolled": true
   },
   "outputs": [],
   "source": [
    "# Create the neural network with one node\n",
    "network = [\n",
    "    {'inputs': 2, 'nodes': 1, 'activation_function': relu}\n",
    "]\n",
    "\n",
    "# Initialize weights\n",
    "network = initialize_weights(network)\n",
    "\n",
    "# Create and initialize a node\n",
    "node = Node(inputs=2, activation_function=relu)\n",
    "\n",
    "# Define inputs and target\n",
    "inputs = np.array([0.5, 0.3])\n",
    "target = 0.8\n",
    "\n",
    "# Perform feed forward\n",
    "output, loss = feed_forward(node, inputs, target)\n",
    "\n",
    "# Perform backpropagation\n",
    "learning_rate = 0.01\n",
    "backpropagation(node, inputs, target, learning_rate)"
   ]
  },
  {
   "cell_type": "code",
   "execution_count": null,
   "id": "77bbaf4b-1879-42ea-b6ee-980686012960",
   "metadata": {},
   "outputs": [],
   "source": []
  }
 ],
 "metadata": {
  "kernelspec": {
   "display_name": "Python 3 (ipykernel)",
   "language": "python",
   "name": "python3"
  },
  "language_info": {
   "codemirror_mode": {
    "name": "ipython",
    "version": 3
   },
   "file_extension": ".py",
   "mimetype": "text/x-python",
   "name": "python",
   "nbconvert_exporter": "python",
   "pygments_lexer": "ipython3",
   "version": "3.10.10"
  }
 },
 "nbformat": 4,
 "nbformat_minor": 5
}
